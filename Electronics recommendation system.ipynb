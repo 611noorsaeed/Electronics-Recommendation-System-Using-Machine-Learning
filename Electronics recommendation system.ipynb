{
 "cells": [
  {
   "cell_type": "code",
   "execution_count": 6,
   "id": "891c8d8d",
   "metadata": {},
   "outputs": [],
   "source": [
    "import numpy as np\n",
    "import pandas as pd"
   ]
  },
  {
   "cell_type": "code",
   "execution_count": 7,
   "id": "18b4c4f1",
   "metadata": {},
   "outputs": [],
   "source": [
    "df = pd.read_csv('DatafinitiElectronicsProductsPricingData.csv')"
   ]
  },
  {
   "cell_type": "code",
   "execution_count": 8,
   "id": "ecef7dce",
   "metadata": {},
   "outputs": [
    {
     "data": {
      "text/html": [
       "<div>\n",
       "<style scoped>\n",
       "    .dataframe tbody tr th:only-of-type {\n",
       "        vertical-align: middle;\n",
       "    }\n",
       "\n",
       "    .dataframe tbody tr th {\n",
       "        vertical-align: top;\n",
       "    }\n",
       "\n",
       "    .dataframe thead th {\n",
       "        text-align: right;\n",
       "    }\n",
       "</style>\n",
       "<table border=\"1\" class=\"dataframe\">\n",
       "  <thead>\n",
       "    <tr style=\"text-align: right;\">\n",
       "      <th></th>\n",
       "      <th>id</th>\n",
       "      <th>prices.amountMax</th>\n",
       "      <th>prices.amountMin</th>\n",
       "      <th>prices.availability</th>\n",
       "      <th>prices.condition</th>\n",
       "      <th>prices.currency</th>\n",
       "      <th>prices.dateSeen</th>\n",
       "      <th>prices.isSale</th>\n",
       "      <th>prices.merchant</th>\n",
       "      <th>prices.shipping</th>\n",
       "      <th>...</th>\n",
       "      <th>name</th>\n",
       "      <th>primaryCategories</th>\n",
       "      <th>sourceURLs</th>\n",
       "      <th>upc</th>\n",
       "      <th>weight</th>\n",
       "      <th>Unnamed: 26</th>\n",
       "      <th>Unnamed: 27</th>\n",
       "      <th>Unnamed: 28</th>\n",
       "      <th>Unnamed: 29</th>\n",
       "      <th>Unnamed: 30</th>\n",
       "    </tr>\n",
       "  </thead>\n",
       "  <tbody>\n",
       "    <tr>\n",
       "      <th>0</th>\n",
       "      <td>AVphzgbJLJeJML43fA0o</td>\n",
       "      <td>104.99</td>\n",
       "      <td>104.99</td>\n",
       "      <td>Yes</td>\n",
       "      <td>New</td>\n",
       "      <td>USD</td>\n",
       "      <td>2017-03-30T06:00:00Z,2017-03-10T22:00:00Z,2017...</td>\n",
       "      <td>False</td>\n",
       "      <td>Bestbuy.com</td>\n",
       "      <td>NaN</td>\n",
       "      <td>...</td>\n",
       "      <td>Sanus VLF410B1 10-Inch Super Slim Full-Motion ...</td>\n",
       "      <td>Electronics</td>\n",
       "      <td>https://www.amazon.com/Sanus-VLF410B1-10-Inch-...</td>\n",
       "      <td>7.93796E+11</td>\n",
       "      <td>32.8 pounds</td>\n",
       "      <td>NaN</td>\n",
       "      <td>NaN</td>\n",
       "      <td>NaN</td>\n",
       "      <td>NaN</td>\n",
       "      <td>NaN</td>\n",
       "    </tr>\n",
       "    <tr>\n",
       "      <th>1</th>\n",
       "      <td>AVpgMuGwLJeJML43KY_c</td>\n",
       "      <td>69.00</td>\n",
       "      <td>64.99</td>\n",
       "      <td>In Stock</td>\n",
       "      <td>New</td>\n",
       "      <td>USD</td>\n",
       "      <td>2017-12-14T06:00:00Z</td>\n",
       "      <td>True</td>\n",
       "      <td>Walmart.com</td>\n",
       "      <td>Expedited</td>\n",
       "      <td>...</td>\n",
       "      <td>Boytone - 2500W 2.1-Ch. Home Theater System - ...</td>\n",
       "      <td>Electronics</td>\n",
       "      <td>http://reviews.bestbuy.com/3545/4784804/review...</td>\n",
       "      <td>6.42015E+11</td>\n",
       "      <td>14 pounds</td>\n",
       "      <td>NaN</td>\n",
       "      <td>NaN</td>\n",
       "      <td>NaN</td>\n",
       "      <td>NaN</td>\n",
       "      <td>NaN</td>\n",
       "    </tr>\n",
       "    <tr>\n",
       "      <th>2</th>\n",
       "      <td>AVpgMuGwLJeJML43KY_c</td>\n",
       "      <td>69.00</td>\n",
       "      <td>69.00</td>\n",
       "      <td>In Stock</td>\n",
       "      <td>New</td>\n",
       "      <td>USD</td>\n",
       "      <td>2017-09-08T05:00:00Z</td>\n",
       "      <td>False</td>\n",
       "      <td>Walmart.com</td>\n",
       "      <td>Expedited</td>\n",
       "      <td>...</td>\n",
       "      <td>Boytone - 2500W 2.1-Ch. Home Theater System - ...</td>\n",
       "      <td>Electronics</td>\n",
       "      <td>http://reviews.bestbuy.com/3545/4784804/review...</td>\n",
       "      <td>6.42015E+11</td>\n",
       "      <td>14 pounds</td>\n",
       "      <td>NaN</td>\n",
       "      <td>NaN</td>\n",
       "      <td>NaN</td>\n",
       "      <td>NaN</td>\n",
       "      <td>NaN</td>\n",
       "    </tr>\n",
       "  </tbody>\n",
       "</table>\n",
       "<p>3 rows × 31 columns</p>\n",
       "</div>"
      ],
      "text/plain": [
       "                     id  prices.amountMax  prices.amountMin  \\\n",
       "0  AVphzgbJLJeJML43fA0o            104.99            104.99   \n",
       "1  AVpgMuGwLJeJML43KY_c             69.00             64.99   \n",
       "2  AVpgMuGwLJeJML43KY_c             69.00             69.00   \n",
       "\n",
       "  prices.availability prices.condition prices.currency  \\\n",
       "0                 Yes              New             USD   \n",
       "1            In Stock              New             USD   \n",
       "2            In Stock              New             USD   \n",
       "\n",
       "                                     prices.dateSeen  prices.isSale  \\\n",
       "0  2017-03-30T06:00:00Z,2017-03-10T22:00:00Z,2017...          False   \n",
       "1                               2017-12-14T06:00:00Z           True   \n",
       "2                               2017-09-08T05:00:00Z          False   \n",
       "\n",
       "  prices.merchant prices.shipping  ...  \\\n",
       "0     Bestbuy.com             NaN  ...   \n",
       "1     Walmart.com       Expedited  ...   \n",
       "2     Walmart.com       Expedited  ...   \n",
       "\n",
       "                                                name primaryCategories  \\\n",
       "0  Sanus VLF410B1 10-Inch Super Slim Full-Motion ...       Electronics   \n",
       "1  Boytone - 2500W 2.1-Ch. Home Theater System - ...       Electronics   \n",
       "2  Boytone - 2500W 2.1-Ch. Home Theater System - ...       Electronics   \n",
       "\n",
       "                                          sourceURLs          upc  \\\n",
       "0  https://www.amazon.com/Sanus-VLF410B1-10-Inch-...  7.93796E+11   \n",
       "1  http://reviews.bestbuy.com/3545/4784804/review...  6.42015E+11   \n",
       "2  http://reviews.bestbuy.com/3545/4784804/review...  6.42015E+11   \n",
       "\n",
       "        weight Unnamed: 26 Unnamed: 27 Unnamed: 28 Unnamed: 29 Unnamed: 30  \n",
       "0  32.8 pounds         NaN         NaN         NaN         NaN         NaN  \n",
       "1    14 pounds         NaN         NaN         NaN         NaN         NaN  \n",
       "2    14 pounds         NaN         NaN         NaN         NaN         NaN  \n",
       "\n",
       "[3 rows x 31 columns]"
      ]
     },
     "execution_count": 8,
     "metadata": {},
     "output_type": "execute_result"
    }
   ],
   "source": [
    "df.head(3)"
   ]
  },
  {
   "cell_type": "markdown",
   "id": "6eccb512",
   "metadata": {},
   "source": [
    "# removing unnecassary columns"
   ]
  },
  {
   "cell_type": "code",
   "execution_count": 9,
   "id": "a05b5c7c",
   "metadata": {},
   "outputs": [],
   "source": [
    "# select only the desired columns\n",
    "df = df[['id', 'name','brand', 'categories','sourceURLs']]\n"
   ]
  },
  {
   "cell_type": "code",
   "execution_count": 10,
   "id": "70cc3942",
   "metadata": {},
   "outputs": [
    {
     "data": {
      "text/html": [
       "<div>\n",
       "<style scoped>\n",
       "    .dataframe tbody tr th:only-of-type {\n",
       "        vertical-align: middle;\n",
       "    }\n",
       "\n",
       "    .dataframe tbody tr th {\n",
       "        vertical-align: top;\n",
       "    }\n",
       "\n",
       "    .dataframe thead th {\n",
       "        text-align: right;\n",
       "    }\n",
       "</style>\n",
       "<table border=\"1\" class=\"dataframe\">\n",
       "  <thead>\n",
       "    <tr style=\"text-align: right;\">\n",
       "      <th></th>\n",
       "      <th>id</th>\n",
       "      <th>name</th>\n",
       "      <th>brand</th>\n",
       "      <th>categories</th>\n",
       "      <th>sourceURLs</th>\n",
       "    </tr>\n",
       "  </thead>\n",
       "  <tbody>\n",
       "    <tr>\n",
       "      <th>0</th>\n",
       "      <td>AVphzgbJLJeJML43fA0o</td>\n",
       "      <td>Sanus VLF410B1 10-Inch Super Slim Full-Motion ...</td>\n",
       "      <td>Sanus</td>\n",
       "      <td>Audio &amp; Video Accessories,TV Mounts,TV Accesso...</td>\n",
       "      <td>https://www.amazon.com/Sanus-VLF410B1-10-Inch-...</td>\n",
       "    </tr>\n",
       "    <tr>\n",
       "      <th>1</th>\n",
       "      <td>AVpgMuGwLJeJML43KY_c</td>\n",
       "      <td>Boytone - 2500W 2.1-Ch. Home Theater System - ...</td>\n",
       "      <td>Boytone</td>\n",
       "      <td>Stereos,Portable Bluetooth Speakers,TV, Video ...</td>\n",
       "      <td>http://reviews.bestbuy.com/3545/4784804/review...</td>\n",
       "    </tr>\n",
       "    <tr>\n",
       "      <th>2</th>\n",
       "      <td>AVpgMuGwLJeJML43KY_c</td>\n",
       "      <td>Boytone - 2500W 2.1-Ch. Home Theater System - ...</td>\n",
       "      <td>Boytone</td>\n",
       "      <td>Stereos,Portable Bluetooth Speakers,TV, Video ...</td>\n",
       "      <td>http://reviews.bestbuy.com/3545/4784804/review...</td>\n",
       "    </tr>\n",
       "  </tbody>\n",
       "</table>\n",
       "</div>"
      ],
      "text/plain": [
       "                     id                                               name  \\\n",
       "0  AVphzgbJLJeJML43fA0o  Sanus VLF410B1 10-Inch Super Slim Full-Motion ...   \n",
       "1  AVpgMuGwLJeJML43KY_c  Boytone - 2500W 2.1-Ch. Home Theater System - ...   \n",
       "2  AVpgMuGwLJeJML43KY_c  Boytone - 2500W 2.1-Ch. Home Theater System - ...   \n",
       "\n",
       "     brand                                         categories  \\\n",
       "0    Sanus  Audio & Video Accessories,TV Mounts,TV Accesso...   \n",
       "1  Boytone  Stereos,Portable Bluetooth Speakers,TV, Video ...   \n",
       "2  Boytone  Stereos,Portable Bluetooth Speakers,TV, Video ...   \n",
       "\n",
       "                                          sourceURLs  \n",
       "0  https://www.amazon.com/Sanus-VLF410B1-10-Inch-...  \n",
       "1  http://reviews.bestbuy.com/3545/4784804/review...  \n",
       "2  http://reviews.bestbuy.com/3545/4784804/review...  "
      ]
     },
     "execution_count": 10,
     "metadata": {},
     "output_type": "execute_result"
    }
   ],
   "source": [
    "df.head(3)"
   ]
  },
  {
   "cell_type": "code",
   "execution_count": 11,
   "id": "bc4d4085",
   "metadata": {},
   "outputs": [
    {
     "name": "stdout",
     "output_type": "stream",
     "text": [
      "<class 'pandas.core.frame.DataFrame'>\n",
      "RangeIndex: 14592 entries, 0 to 14591\n",
      "Data columns (total 5 columns):\n",
      " #   Column      Non-Null Count  Dtype \n",
      "---  ------      --------------  ----- \n",
      " 0   id          14592 non-null  object\n",
      " 1   name        14592 non-null  object\n",
      " 2   brand       14592 non-null  object\n",
      " 3   categories  14592 non-null  object\n",
      " 4   sourceURLs  14592 non-null  object\n",
      "dtypes: object(5)\n",
      "memory usage: 570.1+ KB\n"
     ]
    }
   ],
   "source": [
    "df.info()"
   ]
  },
  {
   "cell_type": "markdown",
   "id": "9e577320",
   "metadata": {},
   "source": [
    "# Cleaning dataset"
   ]
  },
  {
   "cell_type": "code",
   "execution_count": 12,
   "id": "29551022",
   "metadata": {},
   "outputs": [
    {
     "data": {
      "text/plain": [
       "(14592, 5)"
      ]
     },
     "execution_count": 12,
     "metadata": {},
     "output_type": "execute_result"
    }
   ],
   "source": [
    "df.shape"
   ]
  },
  {
   "cell_type": "code",
   "execution_count": 13,
   "id": "e8288874",
   "metadata": {},
   "outputs": [
    {
     "data": {
      "text/plain": [
       "id            0\n",
       "name          0\n",
       "brand         0\n",
       "categories    0\n",
       "sourceURLs    0\n",
       "dtype: int64"
      ]
     },
     "execution_count": 13,
     "metadata": {},
     "output_type": "execute_result"
    }
   ],
   "source": [
    "df.isnull().sum()"
   ]
  },
  {
   "cell_type": "code",
   "execution_count": 14,
   "id": "e24bf39a",
   "metadata": {},
   "outputs": [],
   "source": [
    "df.dropna(inplace=True)"
   ]
  },
  {
   "cell_type": "code",
   "execution_count": 15,
   "id": "8ad1677f",
   "metadata": {},
   "outputs": [
    {
     "data": {
      "text/plain": [
       "13347"
      ]
     },
     "execution_count": 15,
     "metadata": {},
     "output_type": "execute_result"
    }
   ],
   "source": [
    "df.duplicated().sum()"
   ]
  },
  {
   "cell_type": "code",
   "execution_count": 16,
   "id": "8dce3d52",
   "metadata": {},
   "outputs": [],
   "source": [
    "df.drop_duplicates(inplace=True)"
   ]
  },
  {
   "cell_type": "code",
   "execution_count": 17,
   "id": "b4d35d1d",
   "metadata": {},
   "outputs": [
    {
     "data": {
      "text/plain": [
       "id            0\n",
       "name          0\n",
       "brand         0\n",
       "categories    0\n",
       "sourceURLs    0\n",
       "dtype: int64"
      ]
     },
     "execution_count": 17,
     "metadata": {},
     "output_type": "execute_result"
    }
   ],
   "source": [
    "df.isnull().sum()"
   ]
  },
  {
   "cell_type": "code",
   "execution_count": 23,
   "id": "b32c1a4a",
   "metadata": {},
   "outputs": [],
   "source": [
    "df[\"name\"] = df[\"name\"].str.lower().replace(\"[^a-zA-Z0-9]\", \" \", regex=True)"
   ]
  },
  {
   "cell_type": "markdown",
   "id": "d64d66ab",
   "metadata": {},
   "source": [
    "# A funciton that will do all the steps\n",
    "tokenization ( hello world) hello,word)                           \n",
    "lowercase ( World = world)                                 \n",
    "removing stopwords (the this for to)                                  \n",
    "removing sepcial characters (#/+etc)                                   \n",
    "stemming (base form | loving-love, moved-move)                                        "
   ]
  },
  {
   "cell_type": "code",
   "execution_count": 28,
   "id": "fa465ab7",
   "metadata": {},
   "outputs": [],
   "source": [
    "import nltk\n",
    "from nltk.corpus import stopwords\n",
    "from nltk.stem import SnowballStemmer\n",
    "stmer = SnowballStemmer('english')"
   ]
  },
  {
   "cell_type": "code",
   "execution_count": 32,
   "id": "5e3dd6a5",
   "metadata": {},
   "outputs": [],
   "source": [
    "def tokenization(txt):\n",
    "    tokens = nltk.word_tokenize(txt.lower())\n",
    "    stemming = [stmer.stem(w) for w in tokens if not w in stopwords.words('english') and w.isalnum()]\n",
    "    return \" \".join(stemming)"
   ]
  },
  {
   "cell_type": "code",
   "execution_count": 33,
   "id": "a7dd127a",
   "metadata": {},
   "outputs": [],
   "source": [
    "df['name'] = df['name'].apply(lambda x:tokenization(x))"
   ]
  },
  {
   "cell_type": "code",
   "execution_count": 37,
   "id": "754adf34",
   "metadata": {},
   "outputs": [
    {
     "data": {
      "text/plain": [
       "0            sanus vlf410b1 super slim mount 37 84 inch tv\n",
       "1           boyton 2500w home theater system black diamond\n",
       "13       denaq ac adapt toshiba satellit 1700 1710 1715...\n",
       "18       dreamwav tremor portabl bluetooth speaker gree...\n",
       "23                               home theater system black\n",
       "                               ...                        \n",
       "14470    jbl 6 x 9 car speaker polypropylen cone pair b...\n",
       "14485    hp probook 14 laptop intel core i5 4gb memori ...\n",
       "14514    magellan roadmat 5 touchscreen portabl gps nav...\n",
       "14548                   pmx840bt bluetooth power mixer mp3\n",
       "14572                    naxa soundbar digit amplifi black\n",
       "Name: name, Length: 1245, dtype: object"
      ]
     },
     "execution_count": 37,
     "metadata": {},
     "output_type": "execute_result"
    }
   ],
   "source": [
    "# df['name']"
   ]
  },
  {
   "cell_type": "code",
   "execution_count": 36,
   "id": "639d0470",
   "metadata": {},
   "outputs": [],
   "source": [
    "df['categories'] = df['categories'].apply(lambda x:tokenization(x))"
   ]
  },
  {
   "cell_type": "code",
   "execution_count": 41,
   "id": "7f882dc8",
   "metadata": {},
   "outputs": [],
   "source": [
    "df['name_cate'] = df['name'] + \" \" + df['categories']"
   ]
  },
  {
   "cell_type": "code",
   "execution_count": 42,
   "id": "63819deb",
   "metadata": {},
   "outputs": [
    {
     "data": {
      "text/html": [
       "<div>\n",
       "<style scoped>\n",
       "    .dataframe tbody tr th:only-of-type {\n",
       "        vertical-align: middle;\n",
       "    }\n",
       "\n",
       "    .dataframe tbody tr th {\n",
       "        vertical-align: top;\n",
       "    }\n",
       "\n",
       "    .dataframe thead th {\n",
       "        text-align: right;\n",
       "    }\n",
       "</style>\n",
       "<table border=\"1\" class=\"dataframe\">\n",
       "  <thead>\n",
       "    <tr style=\"text-align: right;\">\n",
       "      <th></th>\n",
       "      <th>id</th>\n",
       "      <th>name</th>\n",
       "      <th>brand</th>\n",
       "      <th>categories</th>\n",
       "      <th>sourceURLs</th>\n",
       "      <th>name_cate</th>\n",
       "    </tr>\n",
       "  </thead>\n",
       "  <tbody>\n",
       "    <tr>\n",
       "      <th>0</th>\n",
       "      <td>AVphzgbJLJeJML43fA0o</td>\n",
       "      <td>sanus vlf410b1 super slim mount 37 84 inch tv</td>\n",
       "      <td>Sanus</td>\n",
       "      <td>audio video accessori tv mount tv accessori pa...</td>\n",
       "      <td>https://www.amazon.com/Sanus-VLF410B1-10-Inch-...</td>\n",
       "      <td>sanus vlf410b1 super slim mount 37 84 inch tv ...</td>\n",
       "    </tr>\n",
       "    <tr>\n",
       "      <th>1</th>\n",
       "      <td>AVpgMuGwLJeJML43KY_c</td>\n",
       "      <td>boyton 2500w home theater system black diamond</td>\n",
       "      <td>Boytone</td>\n",
       "      <td>stereo portabl bluetooth speaker tv video home...</td>\n",
       "      <td>http://reviews.bestbuy.com/3545/4784804/review...</td>\n",
       "      <td>boyton 2500w home theater system black diamond...</td>\n",
       "    </tr>\n",
       "    <tr>\n",
       "      <th>13</th>\n",
       "      <td>AVpe9FXeLJeJML43zHrq</td>\n",
       "      <td>denaq ac adapt toshiba satellit 1700 1710 1715...</td>\n",
       "      <td>DENAQ</td>\n",
       "      <td>comput offic comput accessori comput accessori...</td>\n",
       "      <td>http://www.bestbuy.com/site/denaq-ac-adapter-f...</td>\n",
       "      <td>denaq ac adapt toshiba satellit 1700 1710 1715...</td>\n",
       "    </tr>\n",
       "  </tbody>\n",
       "</table>\n",
       "</div>"
      ],
      "text/plain": [
       "                      id                                               name  \\\n",
       "0   AVphzgbJLJeJML43fA0o      sanus vlf410b1 super slim mount 37 84 inch tv   \n",
       "1   AVpgMuGwLJeJML43KY_c     boyton 2500w home theater system black diamond   \n",
       "13  AVpe9FXeLJeJML43zHrq  denaq ac adapt toshiba satellit 1700 1710 1715...   \n",
       "\n",
       "      brand                                         categories  \\\n",
       "0     Sanus  audio video accessori tv mount tv accessori pa...   \n",
       "1   Boytone  stereo portabl bluetooth speaker tv video home...   \n",
       "13    DENAQ  comput offic comput accessori comput accessori...   \n",
       "\n",
       "                                           sourceURLs  \\\n",
       "0   https://www.amazon.com/Sanus-VLF410B1-10-Inch-...   \n",
       "1   http://reviews.bestbuy.com/3545/4784804/review...   \n",
       "13  http://www.bestbuy.com/site/denaq-ac-adapter-f...   \n",
       "\n",
       "                                            name_cate  \n",
       "0   sanus vlf410b1 super slim mount 37 84 inch tv ...  \n",
       "1   boyton 2500w home theater system black diamond...  \n",
       "13  denaq ac adapt toshiba satellit 1700 1710 1715...  "
      ]
     },
     "execution_count": 42,
     "metadata": {},
     "output_type": "execute_result"
    }
   ],
   "source": [
    "df.head(3)"
   ]
  },
  {
   "cell_type": "markdown",
   "id": "f52149e6",
   "metadata": {},
   "source": [
    "# cosine similarity between two documents (in this case, product titles and descriptions"
   ]
  },
  {
   "cell_type": "code",
   "execution_count": 43,
   "id": "a067f281",
   "metadata": {},
   "outputs": [],
   "source": [
    "from sklearn.feature_extraction.text import TfidfVectorizer\n",
    "from sklearn.metrics.pairwise import cosine_similarity"
   ]
  },
  {
   "cell_type": "code",
   "execution_count": 45,
   "id": "6fcdd281",
   "metadata": {},
   "outputs": [],
   "source": [
    "def cosine_sim(txt1,txt2):\n",
    "    obj_tfidf = TfidfVectorizer(tokenizer=tokenization)\n",
    "    tfidfmatrix = obj_tfidf.fit_transform([txt1,txt2])\n",
    "    similarity = cosine_similarity(tfidfmatrix)[0][1]\n",
    "    return similarity"
   ]
  },
  {
   "cell_type": "markdown",
   "id": "315ccae0",
   "metadata": {},
   "source": [
    "# Recommend Products"
   ]
  },
  {
   "cell_type": "code",
   "execution_count": 46,
   "id": "61dd5029",
   "metadata": {},
   "outputs": [],
   "source": [
    "def recommation(query):\n",
    "    tokenized_query = tokenization(query)\n",
    "    df['similarity'] = df['name_cate'].apply(lambda x: cosine_sim(tokenized_query,x))\n",
    "    final_df = df.sort_values(by=['similarity'],ascending=False).head(20)[['name','brand','categories','sourceURLs']]\n",
    "    return final_df\n",
    "#     idx = df[df['name'] == query].index[0]\n",
    "      "
   ]
  },
  {
   "cell_type": "code",
   "execution_count": 49,
   "id": "fa634cfe",
   "metadata": {},
   "outputs": [],
   "source": [
    "final_df = recommation('boytone   2500w 2 1 ch  home theater system   black diamond')"
   ]
  },
  {
   "cell_type": "code",
   "execution_count": null,
   "id": "b5ed2de9",
   "metadata": {},
   "outputs": [],
   "source": []
  }
 ],
 "metadata": {
  "kernelspec": {
   "display_name": "Python 3 (ipykernel)",
   "language": "python",
   "name": "python3"
  },
  "language_info": {
   "codemirror_mode": {
    "name": "ipython",
    "version": 3
   },
   "file_extension": ".py",
   "mimetype": "text/x-python",
   "name": "python",
   "nbconvert_exporter": "python",
   "pygments_lexer": "ipython3",
   "version": "3.10.6"
  }
 },
 "nbformat": 4,
 "nbformat_minor": 5
}
